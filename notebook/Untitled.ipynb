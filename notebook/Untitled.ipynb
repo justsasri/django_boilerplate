{
 "cells": [
  {
   "cell_type": "code",
   "execution_count": 93,
   "id": "19c80aa2",
   "metadata": {
    "scrolled": false
   },
   "outputs": [],
   "source": [
    "import requests\n",
    "\n",
    "\n",
    "class APIClient:\n",
    "    \n",
    "    API_URL = 'http://127.0.0.1:8000/api/'\n",
    "    \n",
    "    def __init__(self, username, password):\n",
    "        self.username = username\n",
    "        self.password = password\n",
    "        res = self.create_access_token(username, password)\n",
    "        \n",
    "    def get_headers(self, extra_headers=dict()):\n",
    "        headers = {'Content-Type': 'application/json'}\n",
    "        headers.update(extra_headers)\n",
    "        return headers\n",
    "    \n",
    "    def create_access_token(self, username=None, password=None):\n",
    "        usr = username or self.username\n",
    "        pas = password or self.password\n",
    "        if not usr:\n",
    "            raise ValueError(\"Username required\")\n",
    "        if not pas:\n",
    "            raise ValueError(\"Password required\")\n",
    "        endpoint = APIClient.API_URL + 'auth/jwt/create/'\n",
    "        data ={ \"username\": username or self.username, \"password\": password or self.password }\n",
    "        res = requests.post(endpoint, json=data, headers=self.get_headers())\n",
    "        if res.status_code == 200:\n",
    "            self.access_token = res.json()['access']\n",
    "            self.refresh_token = res.json()['refresh']\n",
    "        return res\n",
    "        \n",
    "    def refresh_access_token(self):\n",
    "        endpoint = APIClient.API_URL + 'auth/jwt/refresh/'\n",
    "        data ={ \"refresh\": self.refresh_token}\n",
    "        res = requests.post(endpoint, json=data, headers=self.get_headers())\n",
    "        if res.status_code == 200:\n",
    "            self.access_token = res.json()['access']\n",
    "        return res\n",
    "    \n",
    "    def get_all_category(self):\n",
    "        endpoint = APIClient.API_URL + 'categories/'\n",
    "        headers = self.get_headers({\"Authorization\": \"JWT %s\" % self.access_token})\n",
    "        res = requests.get(endpoint, headers=headers)\n",
    "        return res\n",
    "\n",
    "client = APIClient(\"admin\", \"admin_password\")"
   ]
  },
  {
   "cell_type": "code",
   "execution_count": 91,
   "id": "271388f5",
   "metadata": {},
   "outputs": [
    {
     "data": {
      "text/plain": [
       "b'{\"count\":0,\"next\":null,\"previous\":null,\"results\":[]}'"
      ]
     },
     "execution_count": 91,
     "metadata": {},
     "output_type": "execute_result"
    }
   ],
   "source": [
    "client.get_all_category()\n"
   ]
  },
  {
   "cell_type": "code",
   "execution_count": null,
   "id": "e67d39c1",
   "metadata": {},
   "outputs": [],
   "source": []
  },
  {
   "cell_type": "code",
   "execution_count": null,
   "id": "98041c57",
   "metadata": {},
   "outputs": [],
   "source": []
  }
 ],
 "metadata": {
  "kernelspec": {
   "display_name": "Python 3 (ipykernel)",
   "language": "python",
   "name": "python3"
  },
  "language_info": {
   "codemirror_mode": {
    "name": "ipython",
    "version": 3
   },
   "file_extension": ".py",
   "mimetype": "text/x-python",
   "name": "python",
   "nbconvert_exporter": "python",
   "pygments_lexer": "ipython3",
   "version": "3.8.10"
  }
 },
 "nbformat": 4,
 "nbformat_minor": 5
}
